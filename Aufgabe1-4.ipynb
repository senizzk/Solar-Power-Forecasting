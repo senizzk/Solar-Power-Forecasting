{
 "cells": [
  {
   "cell_type": "code",
   "execution_count": null,
   "metadata": {},
   "outputs": [],
   "source": [
    "import pandas as pd\n",
    "import numpy as np\n",
    "import plotly.express as px\n",
    "import matplotlib.pyplot as plt"
   ]
  },
  {
   "cell_type": "code",
   "execution_count": null,
   "metadata": {},
   "outputs": [],
   "source": [
    "energy_train = pd.read_parquet('energy_train.parquet')\n",
    "energy_test2 = pd.read_parquet('energy_test2.parquet')\n",
    "energy_test1 = pd.read_parquet('energy_test1.parquet')\n",
    "forecasts = pd.read_parquet('forecasts.parquet')"
   ]
  },
  {
   "cell_type": "code",
   "execution_count": null,
   "metadata": {},
   "outputs": [],
   "source": [
    "energy_train.info()"
   ]
  },
  {
   "cell_type": "code",
   "execution_count": null,
   "metadata": {},
   "outputs": [],
   "source": [
    "energy_train.nunique()"
   ]
  },
  {
   "cell_type": "code",
   "execution_count": null,
   "metadata": {},
   "outputs": [],
   "source": [
    "energy_test2.info()"
   ]
  },
  {
   "cell_type": "code",
   "execution_count": null,
   "metadata": {},
   "outputs": [],
   "source": [
    "energy_test2.nunique()"
   ]
  },
  {
   "cell_type": "code",
   "execution_count": null,
   "metadata": {},
   "outputs": [],
   "source": [
    "energy_test1.info()"
   ]
  },
  {
   "cell_type": "code",
   "execution_count": null,
   "metadata": {},
   "outputs": [],
   "source": [
    "energy_test1.nunique()"
   ]
  },
  {
   "cell_type": "markdown",
   "metadata": {},
   "source": [
    "## Aufgabe 1"
   ]
  },
  {
   "cell_type": "markdown",
   "metadata": {},
   "source": [
    "### Aufgabe 1.1"
   ]
  },
  {
   "cell_type": "markdown",
   "metadata": {},
   "source": [
    "Bei Trainingsdaten gibt es insgesamt 19968 Datenpunkte.        \n",
    "Auf dem Test 1 gibt es: 7245 Datenpunkte und,      \n",
    "Auf dem Test 2 gibt es: 7465 Datenpunkte.       \n",
    "Insgesamt gibt es 14710 Datenpunkte auf den Testdaten.  "
   ]
  },
  {
   "cell_type": "markdown",
   "metadata": {},
   "source": [
    "### Aufgabe 1.2"
   ]
  },
  {
   "cell_type": "code",
   "execution_count": null,
   "metadata": {},
   "outputs": [],
   "source": [
    "tage = ['2020-11-11', '2021-07-21'] # Beispieltage \n",
    "tage_data = energy_train[energy_train['dtm'].dt.strftime('%Y-%m-%d').isin(tage)].copy()  #auf Tage filtern\n",
    "tage_data.loc[:,'hour'] = tage_data['dtm'].dt.hour #Stunden extrahieren\n",
    "tage_data.loc[:,'month'] = tage_data['dtm'].dt.month "
   ]
  },
  {
   "cell_type": "markdown",
   "metadata": {},
   "source": [
    "#### Tagesverlauf der Stromerzeugung"
   ]
  },
  {
   "cell_type": "code",
   "execution_count": null,
   "metadata": {},
   "outputs": [],
   "source": [
    "# Visualisierung\n",
    "fig = px.line(tage_data, x='hour', y='Solar_MWh', \n",
    "    color=tage_data['dtm'].dt.strftime('%Y-%m-%d'), \n",
    "    markers=True,\n",
    "    labels={'hour': 'Uhrzeit', 'Solar_MWh': 'Erzeugte Menge an Solarstrom in MWh'},\n",
    "    title=\"Tagesverlauf der Stromerzeugung für den 11.11.2020 und den 21.07.2021\"\n",
    ")\n",
    "fig.show()"
   ]
  },
  {
   "cell_type": "markdown",
   "metadata": {},
   "source": [
    "Die rote Kurve stellt die Stromerzeugung in MWh von dem 21.07.2021 dar, während die blaue Kurve die Stromerzeugung in MWH vom 11.11.2020 zeigt. \n",
    "\n",
    "Dabei handelt es sich um einen Sommertag (Juli) und um einen Wintertag (Dezember). Es ist deutlich zu erkennen, dass an dem Sommertag die Sonne bereits um kurz vor 4:00 Uhr aufgeht, was zur frühren Erzeugung an Solarstrom führt. Solarstrom wird auch fast bis 20:00 Uhr erzeugt. Die maximal Erzeugte Menge an Solarstrom wurde um 11:00 Uhr erreicht. \n",
    "\n",
    "Im Winter wurde hingegen erst ab etwa 7:00 Uhr Solartrom erzeugt und die höchste Menge an Solarstrom wurde um 12:00 Uhr erreicht. Danach sank die Kurve an erzeugter Menge an Solarstrom im MWh sehr schnell ab und es konnte nur bis kurz vor 16:00 Uhr Solarstrom erzeugt werden, da es danach höchstwahrscheinlich bereits dunkel war."
   ]
  },
  {
   "cell_type": "markdown",
   "metadata": {},
   "source": [
    "### Aufgabe 1.3"
   ]
  },
  {
   "cell_type": "markdown",
   "metadata": {},
   "source": [
    " #### Gesamtverlauf der Stromerzeugung"
   ]
  },
  {
   "cell_type": "code",
   "execution_count": null,
   "metadata": {},
   "outputs": [],
   "source": [
    "fig = px.line(energy_train, x= 'dtm', y='Solar_MWh', \n",
    "              labels= {'dtm': 'Datum', 'Solar_MWh': 'Erzeugte Menge an Solarstrom in MWh'},\n",
    "              title= 'Visualisierung des Gesamtverlaufes der Stromerzeugung (Trainingsdaten)')\n",
    "fig.show()"
   ]
  },
  {
   "cell_type": "code",
   "execution_count": null,
   "metadata": {},
   "outputs": [],
   "source": [
    "#Daten nach Monaten gruppieren und die Summe der Stromerzeugung berechnen\n",
    "df_monthly = energy_train.groupby(energy_train['dtm'].dt.to_period('M'))['Solar_MWh'].sum().reset_index()\n",
    "# Monatsperioden in Zeitstempel umwandeln, um sie für die Visualisierung zu nutzen\n",
    "df_monthly['dtm'] = df_monthly['dtm'].dt.to_timestamp() \n",
    "\n",
    "# Visualisierung des Gesamtverlaufes der Stromerzeugung nach Monaten\n",
    "fig = px.line(\n",
    "    df_monthly,\n",
    "    x='dtm',\n",
    "    y='Solar_MWh',\n",
    "    title='Visualisierung des Gesamtverlaufes der Stromerzeugung (Trainingsdaten)',\n",
    "    labels={'dtm': 'Datum', 'Solar_MWh': 'Erzeugte Menge an Solarstrom in MWh'},\n",
    "    markers=True\n",
    ")\n",
    "\n",
    "fig.show()"
   ]
  },
  {
   "cell_type": "markdown",
   "metadata": {},
   "source": [
    "Die Kurve stellt den Verlauf der monatlichen Solarstromerzeugung in MWh über einen Zeitraum von zwei Jahren dar.\n",
    "\n",
    "Es lässt sich ein deutlich saisonales Muster erkennen, das durch die jahreszeitlichen Schwankungen der Sonneneinstrahlung geprägt ist.\n",
    "\n",
    "Im Sommer, insbesondere in den Monaten Juni und Juli, sind die Tage länger und die Sonne scheint intensiver. Dies führt dazu, dass die Solaranlagen mehr Strom erzeugen können. Die höchsten Werte der Stromerzeugung wurden in diesen Monaten erreicht, da die Sonne früher aufgeht, später untergeht und die Sonneneinstrahlung intensiver ist.\n",
    "\n",
    "Im Winter hingegen, insbesondere in den Monaten Dezember und Januar, sind die Tage kürzer, und die Sonneneinstrahlung ist schwächer. Die Solarstromerzeugung beginnt später am Tag, erreicht geringere Höchstwerte und endet früher. Das zeigt sich in den deutlich geringeren Werten der Stromerzeugung in den Wintermonaten."
   ]
  },
  {
   "cell_type": "markdown",
   "metadata": {},
   "source": [
    "## Aufgabe 2"
   ]
  },
  {
   "cell_type": "markdown",
   "metadata": {},
   "source": [
    "### Aufgabe 2.1"
   ]
  },
  {
   "cell_type": "markdown",
   "metadata": {},
   "source": [
    "#### Wettermodelle zusammenführen"
   ]
  },
  {
   "cell_type": "markdown",
   "metadata": {},
   "source": [
    "Zuerst auf Spaltennamen filtern und umbenennen auf das jeweilige Wettermodell, welches uns die weitere Verarbeitung vereinfacht "
   ]
  },
  {
   "cell_type": "code",
   "execution_count": null,
   "metadata": {},
   "outputs": [],
   "source": [
    "for model in ['DWD ICON', 'NCEP GFS']:\n",
    "    # Filter für das Wettermodell\n",
    "    forecasts_model = forecasts[forecasts['Weather Model'] == model].copy()\n",
    "    \n",
    "    # Spalten umbenennen\n",
    "    forecasts_model = forecasts_model.rename(columns={\n",
    "        'SolarDownwardRadiation': f'SolarDownwardRadiation_{model.replace(\" \", \"_\")}',\n",
    "        'CloudCover': f'CloudCover_{model.replace(\" \", \"_\")}',\n",
    "        'Temperature': f'Temperature_{model.replace(\" \", \"_\")}'\n",
    "    })\n",
    "    \n",
    "    # 'valid_datetime' berechnen\n",
    "    forecasts_model['valid_datetime'] = pd.to_datetime(forecasts_model['ref_datetime']) + pd.to_timedelta(forecasts_model['valid_time'], unit='h')\n",
    "    # muss so berechnet werden, da die Spalte ref_datetime den Zeitpunkt, an der die Wettervorhersage veröffentlicht wurde ist. valid_time gibt an, \n",
    "    # für wie viele Stunden die Wettervorhersage gültig war \n",
    "    # tatsächliche Gültigkeitsdauer: ref_datetime + timedelta(hours = valid_time)\n",
    "    # -> timedata, um Zeitspannen zu erzeugen , unit = 'h', da wir in Stunden rechnen\n",
    "\n",
    "    # Speicherung der Daten für die einzelnen Modelle\n",
    "    if model == 'DWD ICON':\n",
    "        forecasts_dwd = forecasts_model\n",
    "    else:\n",
    "        forecasts_ncep = forecasts_model\n",
    "\n",
    "# Zusammenführen der beiden Modelle\n",
    "forecasts_combined = pd.merge(forecasts_ncep, forecasts_dwd, on=['ref_datetime', 'valid_time', 'valid_datetime'], how='inner')"
   ]
  },
  {
   "cell_type": "markdown",
   "metadata": {},
   "source": [
    "#### Energiedaten und Wettervorhersagen zusammenführen"
   ]
  },
  {
   "cell_type": "markdown",
   "metadata": {},
   "source": [
    "um alle wichtige Informationen in einem Df zu haben und um weitere Vorverarbeitungsschritte durchzuführen (auch für Aufgabe 3 relevant)"
   ]
  },
  {
   "cell_type": "code",
   "execution_count": null,
   "metadata": {},
   "outputs": [],
   "source": [
    "energy_train_mit_forecast = pd.merge(energy_train, forecasts_combined, left_on=['dtm', 'ref_datetime'], right_on=['valid_datetime', 'ref_datetime'], how='inner')\n",
    "energy_train_mit_forecast"
   ]
  },
  {
   "cell_type": "code",
   "execution_count": null,
   "metadata": {},
   "outputs": [],
   "source": [
    "energy_train_mit_forecast['Monat'] = energy_train_mit_forecast['dtm'].dt.strftime('%b')  # Monaten extrahieren\n",
    "energy_train_mit_forecast['Zeit'] = energy_train_mit_forecast['dtm'].dt.hour #Stunden extrahieren\n",
    "\n",
    "features = ['Monat', 'SolarDownwardRadiation_NCEP_GFS', 'CloudCover_NCEP_GFS', 'Temperature_NCEP_GFS', 'Zeit'] #Attributen der Wettervorhersage\n",
    "energy_train_mit_forecast['Zeit'] = energy_train_mit_forecast['Zeit'].astype(str)"
   ]
  },
  {
   "cell_type": "markdown",
   "metadata": {},
   "source": [
    "#### Welche Attribute haben einen Zusammenhang mit der Stromerzeugung? (Scatterplot)"
   ]
  },
  {
   "cell_type": "code",
   "execution_count": null,
   "metadata": {},
   "outputs": [],
   "source": [
    "fig, axes = plt.subplots(nrows=2, ncols=3, figsize=(20,12))\n",
    "fig.tight_layout()\n",
    "\n",
    "for i, col in enumerate(features):\n",
    "    #plt.subplot(4, 3, i+1)\n",
    "    energy_train_mit_forecast[[\"Solar_MWh\",col]].plot.scatter(x=col, y=\"Solar_MWh\", ax=axes[i//3,i%3], alpha=0.2)"
   ]
  },
  {
   "cell_type": "markdown",
   "metadata": {},
   "source": [
    "#### Solar_MWh vs. SolarDownwardRadiation\n",
    "Ein sehr starker linearer Zusammenhang ist zu erkennen: Mit zunehmender Sonneneinstrahlung steigt die Solarstromproduktion stark an."
   ]
  },
  {
   "cell_type": "markdown",
   "metadata": {},
   "source": [
    "#### Solar_MWh vs. Temperature:\n",
    "Höhere Temperaturen fördern zwar die Stromproduktion, aber der Effekt ist nicht so stark wie bei der Sonneneinstrahlung. Dies könnte auf eine indirekte Beziehung hindeuten, z. B. dass wärmere Tage auch sonniger sind."
   ]
  },
  {
   "cell_type": "markdown",
   "metadata": {},
   "source": [
    "#### Solar_MWh vs. Zeit:\n",
    "\n",
    "- Die Solarstromproduktion zeigt einen starken Zusammenhang mit der Tageszeit.\n",
    "- Der Plot verdeutlicht, dass der Strom hauptsächlich zwischen den Stunden 6:00 und 17:00 erzeugt wird, mit einem deutlichen Spitzenwert zwischen 10:00 und 13:00. Dies entspricht dem Sonnenhöchststand, bei dem die Sonneneinstrahlung am intensivsten ist.\n",
    "- Außerhalb dieser Stunden ist die Stromproduktion nahezu null, was den erwarteten Zusammenhang mit der Verfügbarkeit von Sonnenlicht bestätigt."
   ]
  },
  {
   "cell_type": "markdown",
   "metadata": {},
   "source": [
    "#### Solar_MWh vs. Monat:\n",
    "\n",
    "Es gibt eine klare saisonale Variation:\n",
    "- Die Solarstromproduktion ist in den Sommermonaten (April bis August) am höchsten. Dies ist auf die längeren Tagesstunden und intensivere Sonneneinstrahlung in diesen Monaten zurückzuführen.\n",
    "- In den Wintermonaten (Oktober bis Februar) ist die Produktion deutlich niedriger, was durch kürzere Tage, tiefere Sonnenstände und häufigere Bewölkung erklärt werden kann."
   ]
  },
  {
   "cell_type": "markdown",
   "metadata": {},
   "source": [
    "#### Solar_MWh vs. CloudCover\n",
    "Kein klarer Zusammenhang zwischen Bewölkungsanteil (CloudCover) und Solarstromproduktion ist zu erkennen."
   ]
  },
  {
   "cell_type": "markdown",
   "metadata": {},
   "source": [
    "#### Korrelationsmatrix der Wetterattribute und Solarstrom"
   ]
  },
  {
   "cell_type": "code",
   "execution_count": null,
   "metadata": {},
   "outputs": [],
   "source": [
    "corr_matrix = energy_train_mit_forecast[['SolarDownwardRadiation_NCEP_GFS', 'CloudCover_NCEP_GFS', 'Temperature_NCEP_GFS', \n",
    "                                         'SolarDownwardRadiation_DWD_ICON', 'CloudCover_DWD_ICON', 'Temperature_DWD_ICON',\n",
    "                                         'Solar_MWh']].corr()\n",
    "\n",
    "fig = px.imshow(\n",
    "    corr_matrix,\n",
    "    text_auto=True,\n",
    "    labels={'color': 'Korrelationskoeffizient'},\n",
    "    title='Korrelationsmatrix der Wetterattribute und Solarstrom'\n",
    ")\n",
    "fig.show()"
   ]
  },
  {
   "cell_type": "markdown",
   "metadata": {},
   "source": [
    "### Aufgabe 2.2"
   ]
  },
  {
   "cell_type": "markdown",
   "metadata": {},
   "source": [
    "1) Sonneneinstrahlung (SolarDownwardRadiation)\n",
    "- Die Daten zeigen, dass Solar_MWh (erzeugte Strommenge) sehr stark von der Sonneneinstrahlung abhängt.\n",
    "Korrelation: Sehr starke Korrelation (ca. 0.93). Dies ist die höchste beobachtete Korrelation, was bedeutet, dass je mehr Sonneneinstrahlung vorhanden ist, desto mehr Strom wird produziert.\n"
   ]
  },
  {
   "cell_type": "markdown",
   "metadata": {},
   "source": [
    " ## Aufgabe 3"
   ]
  },
  {
   "cell_type": "code",
   "execution_count": null,
   "metadata": {},
   "outputs": [],
   "source": [
    "print('Spaltennamen im Df:', forecasts.columns)\n",
    "print('Spaltennamen im Df:', energy_train.columns)"
   ]
  },
  {
   "cell_type": "code",
   "execution_count": null,
   "metadata": {},
   "outputs": [],
   "source": [
    "# Merging mit energy_train\n",
    "energy_train['dtm'] = pd.to_datetime(energy_train['dtm'])\n",
    "energy_train['ref_datetime'] = pd.to_datetime(energy_train['ref_datetime'])\n",
    "energy_train_mit_forecast = pd.merge(energy_train, forecasts_combined, left_on=['dtm', 'ref_datetime'], right_on=['valid_datetime', 'ref_datetime'], how='inner')"
   ]
  },
  {
   "cell_type": "markdown",
   "metadata": {},
   "source": [
    "Entfernen von Datensätzen ohne Label -> Da Datensätze ohne Label (Solar_MWh) können nicht für das Training verwendet werden, denn sie enthalten keine Informationen über das Ziel, das vorhergesagt werden soll + damit nachher keine unterschiedliche Verteilung vorhanden ist"
   ]
  },
  {
   "cell_type": "code",
   "execution_count": null,
   "metadata": {},
   "outputs": [],
   "source": [
    "energy_train_mit_forecast = energy_train_mit_forecast[energy_train_mit_forecast['Solar_MWh'].isna()== False]"
   ]
  },
  {
   "cell_type": "markdown",
   "metadata": {},
   "source": [
    "### Erstellen von Trainings- und Testdaten"
   ]
  },
  {
   "cell_type": "markdown",
   "metadata": {},
   "source": [
    "Man muss jetzt in Trainings- und Testdaten aufteilen, um Dataleaks bei den kommenden Vorverarbeitungsschritten zu vermeiden"
   ]
  },
  {
   "cell_type": "code",
   "execution_count": null,
   "metadata": {},
   "outputs": [],
   "source": [
    "#Extrahieren von Monat und Jahr, bevor gefiltert wird, um eine zeitliche Struktur der Daten zu behalten \n",
    "energy_train_mit_forecast['month_year'] = energy_train_mit_forecast['dtm'].dt.to_period('M')\n",
    "\n",
    "# Daten in Test- und Traingsdaten aufteilen, achtung auf Data leakage\n",
    "df_train = energy_train_mit_forecast[(energy_train_mit_forecast['month_year'] >= '2020-09') & (energy_train_mit_forecast['month_year'] <= '2022-06')]\n",
    "df_test = energy_train_mit_forecast[energy_train_mit_forecast['month_year'] > '2022-06']"
   ]
  },
  {
   "cell_type": "markdown",
   "metadata": {},
   "source": [
    "### Datenanalyse von den Daten (zuerst kathegorischen, dann numerischen)"
   ]
  },
  {
   "cell_type": "code",
   "execution_count": null,
   "metadata": {},
   "outputs": [],
   "source": [
    "numeric_columns = df_train.select_dtypes(include=np.number).columns\n",
    "categorical_columns = df_train.select_dtypes(exclude=np.number).columns\n",
    "\n",
    "df_train[categorical_columns].describe()"
   ]
  },
  {
   "cell_type": "code",
   "execution_count": null,
   "metadata": {},
   "outputs": [],
   "source": [
    "drop_columns = {'dtm', 'ref_datetime','valid_time', 'valid_datetime', 'month', 'year', 'Weather Model_x', 'Weather Model_y'}\n",
    "df_train = df_train.drop(drop_columns, axis=1, errors='ignore')\n",
    "df_test = df_test.drop(drop_columns, axis=1, errors='ignore')"
   ]
  },
  {
   "cell_type": "code",
   "execution_count": null,
   "metadata": {},
   "outputs": [],
   "source": [
    "df_train.describe(exclude=np.number)"
   ]
  },
  {
   "cell_type": "code",
   "execution_count": null,
   "metadata": {},
   "outputs": [],
   "source": [
    "interesting_columns = ['Solar_capacity_mwp', 'Solar_MWh', 'SolarDownwardRadiation_DWD_ICON', 'CloudCover_DWD_ICON',\t'Temperature_DWD_ICON',\t'SolarDownwardRadiation_NCEP_GFS',\t'CloudCover_NCEP_GFS',\t'Temperature_NCEP_GFS']"
   ]
  },
  {
   "cell_type": "markdown",
   "metadata": {},
   "source": [
    "### Untersuchung von Ausreißern"
   ]
  },
  {
   "cell_type": "markdown",
   "metadata": {},
   "source": [
    "Untersuchung von Ausreißern, da sie  das Modell negativ beeinflussen können (vor allem wenn man ein lineares Modell trainiert) \n",
    "-> so bleibt die Modellleistung stabiler und generalisierbarer"
   ]
  },
  {
   "cell_type": "code",
   "execution_count": null,
   "metadata": {},
   "outputs": [],
   "source": [
    "fig, axes = plt.subplots(nrows=2, ncols=4, figsize=(10,10))\n",
    "fig.tight_layout()\n",
    "\n",
    "for i, col in enumerate(interesting_columns):\n",
    "    plt.subplot(2, 4, i+1)\n",
    "    df_train[col].plot(kind=\"box\")"
   ]
  },
  {
   "cell_type": "markdown",
   "metadata": {},
   "source": [
    "### Datenbereiningung"
   ]
  },
  {
   "cell_type": "markdown",
   "metadata": {},
   "source": [
    "Entfernen von Ausreißern (kleiner als 0.5% Quantil und größer als 99.5% Quantil Punkte entfernen )"
   ]
  },
  {
   "cell_type": "code",
   "execution_count": null,
   "metadata": {},
   "outputs": [],
   "source": [
    "display(df_train[interesting_columns].quantile(0.995))\n",
    "display(df_train[interesting_columns].quantile(0.005))"
   ]
  },
  {
   "cell_type": "code",
   "execution_count": null,
   "metadata": {},
   "outputs": [],
   "source": [
    "upper_limits = df_train[interesting_columns].quantile(0.995)\n",
    "lower_limits = df_train[interesting_columns].quantile(0.005)"
   ]
  },
  {
   "cell_type": "code",
   "execution_count": null,
   "metadata": {},
   "outputs": [],
   "source": [
    "df_train_reduced = df_train.copy()\n",
    "df_test_reduced = df_test.copy()"
   ]
  },
  {
   "cell_type": "code",
   "execution_count": null,
   "metadata": {},
   "outputs": [],
   "source": [
    "# Für jede Spalte behalten wir: Daten die < (99.5%-Quantil) sind und > (0.5%-Quantil) sind ODER die NaN sind \n",
    "for col in interesting_columns:\n",
    "    df_train_reduced = df_train_reduced[((df_train_reduced[col] <= upper_limits[col]) & (df_train_reduced[col] >= lower_limits[col])) | df_train_reduced[col].isna()]\n",
    "    df_test_reduced = df_test_reduced[((df_test_reduced[col] <= upper_limits[col]) & (df_test_reduced[col] >= lower_limits[col])) | df_test_reduced[col].isna()]\n",
    "\n",
    "df_train_reduced.describe(include=np.number)"
   ]
  },
  {
   "cell_type": "code",
   "execution_count": null,
   "metadata": {},
   "outputs": [],
   "source": [
    "fig, axes = plt.subplots(nrows=2, ncols=4, figsize=(10,10))\n",
    "fig.tight_layout()\n",
    "\n",
    "for i, col in enumerate(interesting_columns):\n",
    "    plt.subplot(2, 4, i+1)\n",
    "    df_train_reduced[col].plot(kind=\"box\")"
   ]
  },
  {
   "cell_type": "markdown",
   "metadata": {},
   "source": [
    "### Behandlung von fehlenden Datensätzen"
   ]
  },
  {
   "cell_type": "code",
   "execution_count": null,
   "metadata": {},
   "outputs": [],
   "source": [
    "df_train_reduced.isna().sum() # isna() wandelt jeden Wert in einen Boolschen Datentyp (0/1) um. sum() summiert diese Werte pro Spalte. Man erhält also die Anzahl der NaN Werte pro Spalte.\n",
    "# SOlarDownwardRadiation hat viele Na Werte"
   ]
  },
  {
   "cell_type": "markdown",
   "metadata": {},
   "source": [
    "Damit nicht viele Zeilen aufgrund von NaN-Werten verloren geht, benutzt man SimpleImputer um sicher zu stellen, dass die Daten vollständig sind und trotzdem möglichst wenig Informationsverlust entsteht. Mittelwert verwenden man für numerische Werte, den häufigsten Wert benutzt man für kategorische Daten."
   ]
  },
  {
   "cell_type": "code",
   "execution_count": null,
   "metadata": {},
   "outputs": [],
   "source": [
    "categorical_columns = df_train_reduced.select_dtypes(exclude=np.number).columns\n",
    "numeric_columns = df_train_reduced.select_dtypes(include=np.number).columns\n",
    "# Für die Label-artigen Columns ersetzen wir die fehlenden Werte nicht\n",
    "numeric_columns = numeric_columns.drop(\"Solar_MWh\") "
   ]
  },
  {
   "cell_type": "code",
   "execution_count": null,
   "metadata": {},
   "outputs": [],
   "source": [
    "from sklearn.impute import SimpleImputer\n",
    "\n",
    "imp_freq = SimpleImputer(missing_values=np.nan, strategy='most_frequent')\n",
    "imp_mean = SimpleImputer(missing_values=np.nan, strategy='mean')\n",
    "\n",
    "df_train_reduced.loc[:,categorical_columns] = imp_freq.fit_transform(df_train_reduced[categorical_columns])\n",
    "df_train_reduced.loc[:,numeric_columns] = imp_mean.fit_transform(df_train_reduced[numeric_columns])\n",
    "\n",
    "df_test_reduced.loc[:,categorical_columns] = imp_freq.transform(df_test_reduced[categorical_columns])\n",
    "df_test_reduced.loc[:,numeric_columns] = imp_mean.transform(df_test_reduced[numeric_columns])"
   ]
  },
  {
   "cell_type": "markdown",
   "metadata": {},
   "source": [
    "### Feature Engineering"
   ]
  },
  {
   "cell_type": "markdown",
   "metadata": {},
   "source": [
    "Das Label (Solar_MWh) wird aus den Features entfernt, da es nicht als Eingabe fürs Training genutzt werden darf. Es bleibt separat in y_train und y_test."
   ]
  },
  {
   "cell_type": "code",
   "execution_count": null,
   "metadata": {},
   "outputs": [],
   "source": [
    "df_train = df_train.drop(\"Solar_MWh\", axis=1, errors=\"ignore\")"
   ]
  },
  {
   "cell_type": "code",
   "execution_count": null,
   "metadata": {},
   "outputs": [],
   "source": [
    "# Die Label-Spalte speichern wir in der Variable y_train bzw. y_test\n",
    "y_train = df_train_reduced[\"Solar_MWh\"]\n",
    "y_test = df_test_reduced[\"Solar_MWh\"]\n",
    "\n",
    "# Nun werden die Spalten endgültig entfernt\n",
    "df_train_reduced = df_train_reduced.drop([\"Solar_MWh\", \"dtm\"], axis=1, errors=\"ignore\")\n",
    "df_test_reduced = df_test_reduced.drop([\"Solar_MWh\", \"dtm\"], axis=1, errors=\"ignore\")"
   ]
  },
  {
   "cell_type": "markdown",
   "metadata": {},
   "source": [
    "### OneHotEncoding"
   ]
  },
  {
   "cell_type": "markdown",
   "metadata": {},
   "source": [
    "Kategoriale Variablen müssen in numerische Werte umgewandelt werden. Benutzen dazu OneHotEncoding, da es die Reihenfolge vermeidet"
   ]
  },
  {
   "cell_type": "code",
   "execution_count": null,
   "metadata": {},
   "outputs": [],
   "source": [
    "from sklearn.preprocessing import OneHotEncoder\n",
    "\n",
    "enc = OneHotEncoder(handle_unknown=\"ignore\", sparse_output=False, drop=\"if_binary\")\n",
    "\n",
    "categorical_columns = df_train_reduced.select_dtypes(exclude=np.number).columns\n",
    "\n",
    "one_hot_columns_train = pd.DataFrame(enc.fit_transform(df_train_reduced[categorical_columns]))\n",
    "one_hot_columns_train.columns = enc.get_feature_names_out()\n",
    "one_hot_columns_train.index = df_train_reduced.index\n",
    "\n",
    "one_hot_columns_test = pd.DataFrame(enc.transform(df_test_reduced[categorical_columns]))\n",
    "one_hot_columns_test.columns = enc.get_feature_names_out()\n",
    "one_hot_columns_test.index = df_test_reduced.index"
   ]
  },
  {
   "cell_type": "markdown",
   "metadata": {},
   "source": [
    "Zusammenfügen der finalen Trainings- und Testdaten, um endgültige Datensätze (X_train und X_test) für das Training und die Validierung zu haben"
   ]
  },
  {
   "cell_type": "code",
   "execution_count": null,
   "metadata": {},
   "outputs": [],
   "source": [
    "numeric_columns = df_train_reduced.select_dtypes(include=np.number).columns\n",
    "\n",
    "X_train = pd.concat([df_train_reduced[numeric_columns], one_hot_columns_train], axis=1)\n",
    "X_test = pd.concat([df_test_reduced[numeric_columns], one_hot_columns_test], axis=1)"
   ]
  },
  {
   "cell_type": "code",
   "execution_count": null,
   "metadata": {},
   "outputs": [],
   "source": [
    "X_train "
   ]
  },
  {
   "cell_type": "markdown",
   "metadata": {},
   "source": [
    "Warum wurde diese Reihenfolge gewählt?"
   ]
  },
  {
   "cell_type": "markdown",
   "metadata": {},
   "source": [
    "Zuerst Datenbereinigung und Vorverarbeitung gemacht, um unvollständige oder inkonsistente Daten zu bereinigen. \n",
    "Danach Spaltenauswahl und Transformationen, um Datenkonsistenz zu behalten und Modellkompatibilität zu garantieren.\n",
    "Anschließend wurde zur Vermeidung von Datenleaks, das Dataframe Energy_train_mit_forecast gesplitet.\n",
    "Zum Schluss Feature Engineering und Encoding, zur Optimierung für maschinelle Lernalgorithmen."
   ]
  },
  {
   "cell_type": "markdown",
   "metadata": {},
   "source": [
    "## Aufgabe 4"
   ]
  },
  {
   "cell_type": "markdown",
   "metadata": {},
   "source": [
    "Potentielle Reduktion der Solarstrahlung durch Bewölkung"
   ]
  },
  {
   "cell_type": "code",
   "execution_count": null,
   "metadata": {},
   "outputs": [],
   "source": [
    "energy_train_mit_forecast['CloudRadiationLoss'] =(energy_train_mit_forecast['SolarDownwardRadiation_DWD_ICON']* energy_train_mit_forecast['CloudCover_DWD_ICON'])"
   ]
  },
  {
   "cell_type": "code",
   "execution_count": null,
   "metadata": {},
   "outputs": [],
   "source": [
    "fig = px.scatter(energy_train_mit_forecast, x='CloudRadiationLoss', y='Solar_MWh', trendline='ols', title='Zusammenhang zwischen der potentiellen Reduktion der Solarstrahlung durch Bewölkung und der tatsächlichen Solarerzeugung', \n",
    "                 labels={'CloudRadiationLoss': 'potentielle Reduktion der Solarstrahlung', 'Solar_MWh': 'Erzeugte Strommenge in MWh'},opacity=0.6)\n",
    "fig.show()"
   ]
  },
  {
   "cell_type": "code",
   "execution_count": null,
   "metadata": {},
   "outputs": [],
   "source": [
    "energy_train_mit_forecast['Relative_Reduktion'] = (\n",
    "    energy_train_mit_forecast['CloudRadiationLoss'] / \n",
    "    energy_train_mit_forecast['SolarDownwardRadiation_DWD_ICON']\n",
    ")"
   ]
  },
  {
   "cell_type": "markdown",
   "metadata": {},
   "source": [
    "-> zeigt einen Zusammenhang zwischen potentiellen Reduktion der Solarstrahlung durch Bewölkung und der erzeugten Strommenge\n",
    "\n",
    "-> Bewölkung hat einen negativen Einfluss auf die erzeugte Strommenge"
   ]
  },
  {
   "cell_type": "code",
   "execution_count": null,
   "metadata": {},
   "outputs": [],
   "source": [
    "fig = px.scatter(energy_train_mit_forecast, x='Relative_Reduktion', y='Solar_MWh', trendline='ols', title='', \n",
    "                 labels={'CloudRadiationLoss': 'potentielle Reduktion der Solarstrahlung', 'Solar_MWh': 'Erzeugte Strommenge in MWh'},opacity=0.6)\n",
    "fig.show()"
   ]
  },
  {
   "cell_type": "markdown",
   "metadata": {},
   "source": [
    "-> schwacher Zusammenhang und eine große Streuung -> es gibt andere Faktoren, die eine wichtigere Rolle bei der Stromerzeugung spielen"
   ]
  },
  {
   "cell_type": "code",
   "execution_count": null,
   "metadata": {},
   "outputs": [],
   "source": [
    "energy_train_mit_forecast['effective_radiation_DWD_ICON'] = energy_train_mit_forecast['SolarDownwardRadiation_DWD_ICON'] * (1 - energy_train_mit_forecast['CloudCover_DWD_ICON'])\n",
    "energy_train_mit_forecast['effective_radiation_NCEP_GFS'] = energy_train_mit_forecast['SolarDownwardRadiation_NCEP_GFS'] * (1 - energy_train_mit_forecast['CloudCover_NCEP_GFS'])\n",
    "energy_train_mit_forecast['radiation_temp_interaction_DWD_ICON'] = energy_train_mit_forecast['SolarDownwardRadiation_DWD_ICON'] * energy_train_mit_forecast['Temperature_DWD_ICON'] \n",
    "energy_train_mit_forecast['radiation_temp_interaction_NCEP_GFS'] = energy_train_mit_forecast['SolarDownwardRadiation_NCEP_GFS'] * energy_train_mit_forecast['Temperature_NCEP_GFS'] \n",
    "energy_train_mit_forecast['temperature_squared_DWD_ICON'] = energy_train_mit_forecast['Temperature_DWD_ICON'] ** 2  \n",
    "energy_train_mit_forecast['temperature_squared_NCEP_GFS'] = energy_train_mit_forecast['Temperature_NCEP_GFS'] ** 2  \n",
    "energy_train_mit_forecast.info()"
   ]
  },
  {
   "cell_type": "code",
   "execution_count": null,
   "metadata": {},
   "outputs": [],
   "source": [
    "energy_train_mit_forecast.head(2)"
   ]
  },
  {
   "cell_type": "code",
   "execution_count": null,
   "metadata": {},
   "outputs": [],
   "source": [
    "energy_train_mit_forecast.columns"
   ]
  },
  {
   "cell_type": "markdown",
   "metadata": {},
   "source": [
    "### Daten auf die Jahreszeiten aufteilen"
   ]
  },
  {
   "cell_type": "code",
   "execution_count": null,
   "metadata": {},
   "outputs": [],
   "source": [
    "energy_train_mit_forecast['month'] = energy_train_mit_forecast['month_year'].dt.month # verweden um Monatsnummer zu erhalten"
   ]
  },
  {
   "cell_type": "code",
   "execution_count": null,
   "metadata": {},
   "outputs": [],
   "source": [
    "# Funktion für die Jahreszeiten\n",
    "def get_season(month):\n",
    "    if month in [12, 1, 2]:\n",
    "        return 'Winter'\n",
    "    elif month in [3, 4, 5]:\n",
    "        return 'Spring'\n",
    "    elif month in [6, 7, 8]:\n",
    "        return 'Summer'\n",
    "    elif month in [9, 10, 11]:\n",
    "        return 'Autumn'"
   ]
  },
  {
   "cell_type": "code",
   "execution_count": null,
   "metadata": {},
   "outputs": [],
   "source": [
    "# Jeweiligen Jahreszeiten Zuordnen\n",
    "\n",
    "energy_train_mit_forecast['Season'] = energy_train_mit_forecast['month'].apply(get_season)"
   ]
  },
  {
   "cell_type": "code",
   "execution_count": null,
   "metadata": {},
   "outputs": [],
   "source": [
    "fig = px.box(\n",
    "    energy_train_mit_forecast,\n",
    "    x='Season',\n",
    "    y='Solar_MWh',\n",
    "    title='Solarstromerzeugung nach Jahreszeiten',\n",
    "    labels={'Season': 'Jahreszeit', 'Solar_MWh': 'Erzeugte Solarstrommenge (MWh)'}\n",
    ")\n",
    "fig.show()"
   ]
  },
  {
   "cell_type": "markdown",
   "metadata": {},
   "source": [
    "### Schauen wann die Sonne jeden Tag auf- und untergeht"
   ]
  },
  {
   "cell_type": "code",
   "execution_count": null,
   "metadata": {},
   "outputs": [],
   "source": [
    "# Extrahiere das Datum aus der `dtm`-Spalte\n",
    "energy_train_mit_forecast['date'] = energy_train_mit_forecast['dtm'].dt.date\n",
    "\n",
    "# Filtriere Zeilen mit Solar_MWh > 0\n",
    "energy_positive = energy_train_mit_forecast[energy_train_mit_forecast['Solar_MWh'] > 0]\n",
    "\n",
    "# Gruppiere nach `date` und finde den ersten Zeitpunkt pro Tag\n",
    "first_positive_time = energy_positive.groupby('date')['dtm'].min().reset_index()\n",
    "\n",
    "# Ergebnis anzeigen\n",
    "# first_positive_time"
   ]
  },
  {
   "cell_type": "code",
   "execution_count": null,
   "metadata": {},
   "outputs": [],
   "source": [
    "# Umbenennen der dtm-Spalte in `first_positive_dtm` im first_positive_time DataFrame\n",
    "first_positive_time = first_positive_time.rename(columns={'dtm': 'first_positive_dtm'})\n",
    "\n",
    "# Mergen von first_positive_time mit energy_train_mit_forecast\n",
    "energy_train_mit_forecast = pd.merge(energy_train_mit_forecast, first_positive_time, on='date', how='left', suffixes=('', '_from_first_positive_time'))"
   ]
  },
  {
   "cell_type": "code",
   "execution_count": null,
   "metadata": {},
   "outputs": [],
   "source": [
    "# Finde den letzten Zeitpunkt pro Tag, an dem Solar_MWh > 0 war\n",
    "last_positive_time = energy_positive.groupby('date')['dtm'].max().reset_index()\n",
    "\n",
    "# Funktion, um den ersten Zeitpunkt nach dem letzten positiven Wert zu finden, wo Solar_MWh == 0\n",
    "def find_zero_after_last(df, last_times):\n",
    "    results = []\n",
    "    for _, row in last_times.iterrows():\n",
    "        date = row['date']\n",
    "        last_positive_dtm = row['dtm']\n",
    "        # Filtriere Daten für das entsprechende Datum\n",
    "        daily_data = df[df['date'] == date]\n",
    "        # Finde den ersten Zeitpunkt nach dem letzten positiven Wert\n",
    "        zero_after_last = daily_data[\n",
    "            (daily_data['dtm'] > last_positive_dtm) & (daily_data['Solar_MWh'] == 0)\n",
    "        ]\n",
    "        if not zero_after_last.empty:\n",
    "            results.append({'date': date, 'zero_after_last_dtm': zero_after_last.iloc[0]['dtm']})\n",
    "        else:\n",
    "            results.append({'date': date, 'zero_after_last_dtm': None})\n",
    "    return pd.DataFrame(results)\n",
    "\n",
    "# Finde Zeitpunkte für Solar_MWh == 0 nach dem letzten positiven Wert\n",
    "zero_times = find_zero_after_last(energy_train_mit_forecast, last_positive_time)\n",
    "\n",
    "# Ergebnis anzeigen\n",
    "# print(zero_times)"
   ]
  },
  {
   "cell_type": "code",
   "execution_count": null,
   "metadata": {},
   "outputs": [],
   "source": [
    "# Mergen von zero_times mit energy_train_mit_forecast auf 'date' Spalte\n",
    "energy_train_mit_forecast = pd.merge(energy_train_mit_forecast, zero_times, on='date', how='left', suffixes=('', '_zero_after_last_dtm'))"
   ]
  },
  {
   "cell_type": "code",
   "execution_count": null,
   "metadata": {},
   "outputs": [],
   "source": [
    "energy_train_mit_forecast.head()"
   ]
  },
  {
   "cell_type": "markdown",
   "metadata": {},
   "source": [
    "### Herausfinden, wann die Sonne in den jeweiligen Jahreszeiten im durchschnitt auf- und untergeht"
   ]
  },
  {
   "cell_type": "code",
   "execution_count": null,
   "metadata": {},
   "outputs": [],
   "source": [
    "# Funktion, um die Zeit seit Mitternacht in Sekunden zu berechnen\n",
    "def time_since_midnight(dt_series):\n",
    "    return dt_series.dt.hour * 3600 + dt_series.dt.minute * 60 + dt_series.dt.second\n",
    "\n",
    "# Berechne die Sekunden seit Mitternacht\n",
    "energy_train_mit_forecast['first_positive_seconds'] = time_since_midnight(energy_train_mit_forecast['first_positive_dtm'])\n",
    "energy_train_mit_forecast['zero_after_seconds'] = time_since_midnight(energy_train_mit_forecast['zero_after_last_dtm'])\n",
    "\n",
    "# Gruppiere nach Season und berechne den Mittelwert der Sekunden\n",
    "average_times_by_season = (\n",
    "    energy_train_mit_forecast\n",
    "    .groupby('Season')[['first_positive_seconds', 'zero_after_seconds']]\n",
    "    .mean()\n",
    "    .reset_index()\n",
    ")\n",
    "\n",
    "# Konvertiere die Sekunden zurück in ein Zeitformat\n",
    "average_times_by_season['avg_first_positive_time'] = pd.to_timedelta(average_times_by_season['first_positive_seconds'], unit='s')\n",
    "average_times_by_season['avg_zero_after_time'] = pd.to_timedelta(average_times_by_season['zero_after_seconds'], unit='s')\n",
    "\n",
    "# Nur relevante Spalten anzeigen\n",
    "average_times_by_season = average_times_by_season[['Season', 'avg_first_positive_time', 'avg_zero_after_time']]\n",
    "\n",
    "# Ergebnis anzeigen\n",
    "average_times_by_season\n"
   ]
  },
  {
   "cell_type": "markdown",
   "metadata": {},
   "source": [
    "## Schauen welche Features am aussagekräftigsten ist"
   ]
  },
  {
   "cell_type": "code",
   "execution_count": null,
   "metadata": {},
   "outputs": [],
   "source": [
    "# Berechnung der Korrelationen\n",
    "correlations = energy_train_mit_forecast.corr(numeric_only=True)['Solar_MWh'].sort_values(ascending=False)\n",
    "\n",
    "# Ausgabe der stärksten Korrelationen\n",
    "print(\"Korrelation mit Solar_MWh:\")\n",
    "print(correlations)"
   ]
  },
  {
   "cell_type": "markdown",
   "metadata": {},
   "source": [
    "Fazit:"
   ]
  },
  {
   "cell_type": "markdown",
   "metadata": {},
   "source": [
    "von den neu hinzugefüten Features kann man sehen, dass radiation_temp_interaction (auf beiden Wettervorhersagemodellen) den stärksten Einfluss auf Solar_MWh haben. -> Feature berücksichtigt die Effizienz von den Solaranlagen im Bezug zur Temperatur\n",
    "\n",
    "effective_radiation (tatsächliche Menge an Strahlung, die die Solarpads erreicht, nach Abzug der durch Wolken verlorenen Strahlung) haben ebenfalls einen Einfluss auf Solar_MWh, jedoch nur einen mittleren Einfluss. Genauso wie CloudRadiationLoss , welches den Verlust an Strahlung durch Wolkenbedeckung repräsentiert.\n",
    "\n",
    "temperature_squared und termperature je nach Wettermodell haben nur einen moderaten Einfluss auf Solar_MWh."
   ]
  },
  {
   "cell_type": "markdown",
   "metadata": {},
   "source": [
    "Es ist jedoch auffällig, dass das Feature SolarDownwardRadiation (die direkte Sonneneinstrahlung) den größten Einfluss hat. "
   ]
  }
 ],
 "metadata": {
  "kernelspec": {
   "display_name": "Python 3",
   "language": "python",
   "name": "python3"
  },
  "language_info": {
   "codemirror_mode": {
    "name": "ipython",
    "version": 3
   },
   "file_extension": ".py",
   "mimetype": "text/x-python",
   "name": "python",
   "nbconvert_exporter": "python",
   "pygments_lexer": "ipython3",
   "version": "3.9.6"
  }
 },
 "nbformat": 4,
 "nbformat_minor": 2
}
